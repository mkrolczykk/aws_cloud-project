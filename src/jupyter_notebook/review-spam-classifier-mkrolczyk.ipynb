{
 "cells": [
  {
   "cell_type": "code",
   "execution_count": 200,
   "id": "0eaa1265",
   "metadata": {},
   "outputs": [],
   "source": [
    "from sagemaker import get_execution_role\n",
    "\n",
    "bucket_name = 'mkrolczyk-project-resources'\n",
    "\n",
    "role = get_execution_role()\n",
    "bucket_key_prefix = 'sagemaker'\n",
    "vocabulary_length = 9013"
   ]
  },
  {
   "cell_type": "code",
   "execution_count": 201,
   "id": "d48e2971",
   "metadata": {},
   "outputs": [],
   "source": [
    "!mkdir -p dataset"
   ]
  },
  {
   "cell_type": "code",
   "execution_count": 202,
   "id": "07a6dd47",
   "metadata": {},
   "outputs": [],
   "source": [
    "import pandas as pd\n",
    "import numpy as np\n",
    "from spam_classifier_utilities import one_hot_encode\n",
    "from spam_classifier_utilities import vectorize_sequences\n",
    "import boto3\n",
    "\n",
    "s3 = boto3.resource('s3')\n",
    "s3_key = 'review_texts.tsv' # s3 file key\n",
    "local_file_name = 'dataset/work_review_texts.tsv'\n",
    "\n",
    "try:\n",
    "    s3.Bucket(bucket_name).download_file(s3_key, local_file_name)\n",
    "except botocore.exceptions.ClientError as e:\n",
    "    if e.response['Error']['Code'] == \"404\":\n",
    "        print(\"The object does not exist.\")\n",
    "    else:\n",
    "        raise\n",
    "\n",
    "df = pd.read_csv(local_file_name, sep='\\t', header=None)\n",
    "df[df.columns[0]] = df[df.columns[0]].map({'ham': 0, 'spam': 1})\n",
    "\n",
    "targets = df[df.columns[0]].values\n",
    "messages = df[df.columns[1]].values\n",
    "\n",
    "# one hot encoding for each text\n",
    "one_hot_data = one_hot_encode(messages, vocabulary_length)\n",
    "encoded_messages = vectorize_sequences(one_hot_data, vocabulary_length)\n",
    "\n",
    "df2 = pd.DataFrame(encoded_messages)\n",
    "df2.insert(0, 'spam', targets)\n",
    "\n",
    "# Split into training and validation sets (80%/20% split)\n",
    "split_index = int(np.ceil(df.shape[0] * 0.8))\n",
    "train_set = df2[:split_index]\n",
    "val_set = df2[split_index:]\n",
    "\n",
    "train_set.to_csv('dataset/text_train_set.csv', header=False, index=False)\n",
    "val_set.to_csv('dataset/text_val_set.csv', header=False, index=False)"
   ]
  },
  {
   "cell_type": "code",
   "execution_count": 203,
   "id": "1eec9e2f",
   "metadata": {},
   "outputs": [],
   "source": [
    "target_bucket = s3.Bucket(bucket_name)\n",
    "\n",
    "with open('dataset/text_train_set.csv', 'rb') as data:\n",
    "    target_bucket.upload_fileobj(data, '{0}/train_data/train_set.csv'.format(bucket_key_prefix))\n",
    "    \n",
    "with open('dataset/text_val_set.csv', 'rb') as data:\n",
    "    target_bucket.upload_fileobj(data, '{0}/validation_data/val_set.csv'.format(bucket_key_prefix))"
   ]
  },
  {
   "cell_type": "code",
   "execution_count": 204,
   "id": "a62bead3",
   "metadata": {
    "scrolled": true
   },
   "outputs": [],
   "source": [
    "import boto3\n",
    "\n",
    "container = sagemaker.image_uris.retrieve('linear-learner', boto3.Session().region_name)"
   ]
  },
  {
   "cell_type": "code",
   "execution_count": 86,
   "id": "42216afb",
   "metadata": {},
   "outputs": [
    {
     "name": "stdout",
     "output_type": "stream",
     "text": [
      "2021-09-30 16:49:53 Starting - Starting the training job...\n",
      "2021-09-30 16:50:21 Starting - Launching requested ML instancesProfilerReport-1633020593: InProgress\n",
      ".........\n",
      "2021-09-30 16:51:43 Starting - Preparing the instances for training.........\n",
      "2021-09-30 16:53:23 Downloading - Downloading input data\n",
      "2021-09-30 16:53:23 Training - Downloading the training image...\n",
      "2021-09-30 16:53:51 Training - Training image download completed. Training in progress..\u001B[34mDocker entrypoint called with argument(s): train\u001B[0m\n",
      "\u001B[34mRunning default environment configuration script\u001B[0m\n",
      "\u001B[34m[09/30/2021 16:53:54 INFO 140635303335744] Reading default configuration from /opt/amazon/lib/python3.7/site-packages/algorithm/resources/default-input.json: {'mini_batch_size': '1000', 'epochs': '15', 'feature_dim': 'auto', 'use_bias': 'true', 'binary_classifier_model_selection_criteria': 'accuracy', 'f_beta': '1.0', 'target_recall': '0.8', 'target_precision': '0.8', 'num_models': 'auto', 'num_calibration_samples': '10000000', 'init_method': 'uniform', 'init_scale': '0.07', 'init_sigma': '0.01', 'init_bias': '0.0', 'optimizer': 'auto', 'loss': 'auto', 'margin': '1.0', 'quantile': '0.5', 'loss_insensitivity': '0.01', 'huber_delta': '1.0', 'num_classes': '1', 'accuracy_top_k': '3', 'wd': 'auto', 'l1': 'auto', 'momentum': 'auto', 'learning_rate': 'auto', 'beta_1': 'auto', 'beta_2': 'auto', 'bias_lr_mult': 'auto', 'bias_wd_mult': 'auto', 'use_lr_scheduler': 'true', 'lr_scheduler_step': 'auto', 'lr_scheduler_factor': 'auto', 'lr_scheduler_minimum_lr': 'auto', 'positive_example_weight_mult': '1.0', 'balance_multiclass_weights': 'false', 'normalize_data': 'true', 'normalize_label': 'auto', 'unbias_data': 'auto', 'unbias_label': 'auto', 'num_point_for_scaler': '10000', '_kvstore': 'auto', '_num_gpus': 'auto', '_num_kv_servers': 'auto', '_log_level': 'info', '_tuning_objective_metric': '', 'early_stopping_patience': '3', 'early_stopping_tolerance': '0.001', '_enable_profiler': 'false'}\u001B[0m\n",
      "\u001B[34m[09/30/2021 16:53:54 INFO 140635303335744] Merging with provided configuration from /opt/ml/input/config/hyperparameters.json: {'feature_dim': '9013', 'predictor_type': 'binary_classifier', 'mini_batch_size': '100'}\u001B[0m\n",
      "\u001B[34m[09/30/2021 16:53:54 INFO 140635303335744] Final configuration: {'mini_batch_size': '100', 'epochs': '15', 'feature_dim': '9013', 'use_bias': 'true', 'binary_classifier_model_selection_criteria': 'accuracy', 'f_beta': '1.0', 'target_recall': '0.8', 'target_precision': '0.8', 'num_models': 'auto', 'num_calibration_samples': '10000000', 'init_method': 'uniform', 'init_scale': '0.07', 'init_sigma': '0.01', 'init_bias': '0.0', 'optimizer': 'auto', 'loss': 'auto', 'margin': '1.0', 'quantile': '0.5', 'loss_insensitivity': '0.01', 'huber_delta': '1.0', 'num_classes': '1', 'accuracy_top_k': '3', 'wd': 'auto', 'l1': 'auto', 'momentum': 'auto', 'learning_rate': 'auto', 'beta_1': 'auto', 'beta_2': 'auto', 'bias_lr_mult': 'auto', 'bias_wd_mult': 'auto', 'use_lr_scheduler': 'true', 'lr_scheduler_step': 'auto', 'lr_scheduler_factor': 'auto', 'lr_scheduler_minimum_lr': 'auto', 'positive_example_weight_mult': '1.0', 'balance_multiclass_weights': 'false', 'normalize_data': 'true', 'normalize_label': 'auto', 'unbias_data': 'auto', 'unbias_label': 'auto', 'num_point_for_scaler': '10000', '_kvstore': 'auto', '_num_gpus': 'auto', '_num_kv_servers': 'auto', '_log_level': 'info', '_tuning_objective_metric': '', 'early_stopping_patience': '3', 'early_stopping_tolerance': '0.001', '_enable_profiler': 'false', 'predictor_type': 'binary_classifier'}\u001B[0m\n",
      "\u001B[34m[09/30/2021 16:53:54 WARNING 140635303335744] Loggers have already been setup.\u001B[0m\n",
      "\u001B[34mProcess 1 is a worker.\u001B[0m\n",
      "\u001B[34m[09/30/2021 16:53:54 INFO 140635303335744] Using default worker.\u001B[0m\n",
      "\u001B[34m[09/30/2021 16:53:54 INFO 140635303335744] Checkpoint loading and saving are disabled.\u001B[0m\n",
      "\u001B[34m[09/30/2021 16:53:55 INFO 140635303335744] Create Store: local\u001B[0m\n",
      "\u001B[34m[09/30/2021 16:54:18 INFO 140635303335744] Scaler algorithm parameters\n",
      " <algorithm.scaler.ScalerAlgorithmStable object at 0x7fe7cb4c8490>\u001B[0m\n",
      "\u001B[34m[09/30/2021 16:54:18 INFO 140635303335744] Scaling model computed with parameters:\n",
      " {'stdev_label': None, 'stdev_weight': \u001B[0m\n",
      "\u001B[34m[1.         0.01507386 0.01507386 ... 1.         1.         1.        ]\u001B[0m\n",
      "\u001B[34m<NDArray 9013 @cpu(0)>, 'mean_label': None, 'mean_weight': \u001B[0m\n",
      "\u001B[34m[0.         0.00022727 0.00022727 ... 0.         0.         0.        ]\u001B[0m\n",
      "\u001B[34m<NDArray 9013 @cpu(0)>}\u001B[0m\n",
      "\u001B[34m[09/30/2021 16:54:18 INFO 140635303335744] nvidia-smi: took 0.031 seconds to run.\u001B[0m\n",
      "\u001B[34m[09/30/2021 16:54:18 INFO 140635303335744] nvidia-smi identified 0 GPUs.\u001B[0m\n",
      "\u001B[34m[09/30/2021 16:54:18 INFO 140635303335744] Number of GPUs being used: 0\u001B[0m\n",
      "\u001B[34m[09/30/2021 17:00:11 INFO 140635303335744] #quality_metric: host=algo-1, epoch=14, train binary_classification_cross_entropy_objective <loss>=0.002505491601980545\u001B[0m\n",
      "\u001B[34m[09/30/2021 17:00:11 INFO 140635303335744] #early_stopping_criteria_metric: host=algo-1, epoch=14, criteria=binary_classification_cross_entropy_objective, value=0.001490874439901249\u001B[0m\n",
      "\u001B[34m[09/30/2021 17:00:11 INFO 140635303335744] Epoch 14: Loss improved. Updating best model\u001B[0m\n",
      "\u001B[34m[09/30/2021 17:00:11 INFO 140635303335744] Saving model for epoch: 14\u001B[0m\n",
      "\u001B[34m[09/30/2021 17:00:11 INFO 140635303335744] Saved checkpoint to \"/tmp/tmp_j7symst/mx-mod-0000.params\"\u001B[0m\n",
      "\u001B[34m[09/30/2021 17:00:11 INFO 140635303335744] #progress_metric: host=algo-1, completed 100.0 % of epochs\u001B[0m\n",
      "\u001B[34m#metrics {\"StartTime\": 1633021187.4342508, \"EndTime\": 1633021211.0630436, \"Dimensions\": {\"Algorithm\": \"Linear Learner\", \"Host\": \"algo-1\", \"Operation\": \"training\", \"epoch\": 14, \"Meta\": \"training_data_iter\"}, \"Metrics\": {\"Total Records Seen\": {\"sum\": 71428.0, \"count\": 1, \"min\": 71428, \"max\": 71428}, \"Total Batches Seen\": {\"sum\": 721.0, \"count\": 1, \"min\": 721, \"max\": 721}, \"Max Records Seen Between Resets\": {\"sum\": 4458.0, \"count\": 1, \"min\": 4458, \"max\": 4458}, \"Max Batches Seen Between Resets\": {\"sum\": 45.0, \"count\": 1, \"min\": 45, \"max\": 45}, \"Reset Count\": {\"sum\": 17.0, \"count\": 1, \"min\": 17, \"max\": 17}, \"Number of Records Since Last Reset\": {\"sum\": 4458.0, \"count\": 1, \"min\": 4458, \"max\": 4458}, \"Number of Batches Since Last Reset\": {\"sum\": 45.0, \"count\": 1, \"min\": 45, \"max\": 45}}}\n",
      "\u001B[0m\n",
      "\u001B[34m[09/30/2021 17:00:11 INFO 140635303335744] #throughput_metric: host=algo-1, train throughput=188.667303387374 records/second\u001B[0m\n",
      "\u001B[34m[09/30/2021 17:00:11 WARNING 140635303335744] wait_for_all_workers will not sync workers since the kv store is not running distributed\u001B[0m\n",
      "\u001B[34m[09/30/2021 17:00:11 WARNING 140635303335744] wait_for_all_workers will not sync workers since the kv store is not running distributed\u001B[0m\n",
      "\u001B[34m[09/30/2021 17:00:56 INFO 140635303335744] #train_score (algo-1) : ('binary_classification_cross_entropy_objective', 0.010667233147101452)\u001B[0m\n",
      "\u001B[34m[09/30/2021 17:00:56 INFO 140635303335744] #train_score (algo-1) : ('binary_classification_accuracy', 0.9982054733064154)\u001B[0m\n",
      "\u001B[34m[09/30/2021 17:00:56 INFO 140635303335744] #train_score (algo-1) : ('binary_f_1.000', 0.9933993399339934)\u001B[0m\n",
      "\u001B[34m[09/30/2021 17:00:56 INFO 140635303335744] #train_score (algo-1) : ('precision', 0.9868852459016394)\u001B[0m\n",
      "\u001B[34m[09/30/2021 17:00:56 INFO 140635303335744] #train_score (algo-1) : ('recall', 1.0)\u001B[0m\n",
      "\u001B[34m[09/30/2021 17:00:56 INFO 140635303335744] #train_score (algo-1) : ('roc_auc_score', 0.9997753425648944)\u001B[0m\n",
      "\u001B[34m[09/30/2021 17:00:56 INFO 140635303335744] #quality_metric: host=algo-1, train binary_classification_cross_entropy_objective <loss>=0.010667233147101452\u001B[0m\n",
      "\u001B[34m[09/30/2021 17:00:56 INFO 140635303335744] #quality_metric: host=algo-1, train binary_classification_accuracy <score>=0.9982054733064154\u001B[0m\n",
      "\u001B[34m[09/30/2021 17:00:56 INFO 140635303335744] #quality_metric: host=algo-1, train binary_f_1.000 <score>=0.9933993399339934\u001B[0m\n",
      "\u001B[34m[09/30/2021 17:00:56 INFO 140635303335744] #quality_metric: host=algo-1, train precision <score>=0.9868852459016394\u001B[0m\n",
      "\u001B[34m[09/30/2021 17:00:56 INFO 140635303335744] #quality_metric: host=algo-1, train recall <score>=1.0\u001B[0m\n",
      "\u001B[34m[09/30/2021 17:00:56 INFO 140635303335744] #quality_metric: host=algo-1, train roc_auc_score <score>=0.9997753425648944\u001B[0m\n",
      "\u001B[34m[09/30/2021 17:00:56 INFO 140635303335744] Best model found for hyperparameters: {\"optimizer\": \"adam\", \"learning_rate\": 0.005, \"wd\": 0.0001, \"l1\": 0.0, \"lr_scheduler_step\": 100, \"lr_scheduler_factor\": 0.99, \"lr_scheduler_minimum_lr\": 0.0001}\u001B[0m\n",
      "\u001B[34m[09/30/2021 17:00:56 INFO 140635303335744] Saved checkpoint to \"/tmp/tmp236zhbxc/mx-mod-0000.params\"\u001B[0m\n",
      "\u001B[34m#metrics {\"StartTime\": 1633021256.7805965, \"EndTime\": 1633021262.7179728, \"Dimensions\": {\"Algorithm\": \"Linear Learner\", \"Host\": \"algo-1\", \"Operation\": \"training\", \"Meta\": \"test_data_iter\"}, \"Metrics\": {\"Total Records Seen\": {\"sum\": 1114.0, \"count\": 1, \"min\": 1114, \"max\": 1114}, \"Total Batches Seen\": {\"sum\": 12.0, \"count\": 1, \"min\": 12, \"max\": 12}, \"Max Records Seen Between Resets\": {\"sum\": 1114.0, \"count\": 1, \"min\": 1114, \"max\": 1114}, \"Max Batches Seen Between Resets\": {\"sum\": 12.0, \"count\": 1, \"min\": 12, \"max\": 12}, \"Reset Count\": {\"sum\": 1.0, \"count\": 1, \"min\": 1, \"max\": 1}, \"Number of Records Since Last Reset\": {\"sum\": 1114.0, \"count\": 1, \"min\": 1114, \"max\": 1114}, \"Number of Batches Since Last Reset\": {\"sum\": 12.0, \"count\": 1, \"min\": 12, \"max\": 12}}}\n",
      "\u001B[0m\n",
      "\u001B[34m[09/30/2021 17:01:02 INFO 140635303335744] #test_score (algo-1) : ('binary_classification_cross_entropy_objective', 0.6799453953831771)\u001B[0m\n",
      "\u001B[34m[09/30/2021 17:01:02 INFO 140635303335744] #test_score (algo-1) : ('binary_classification_accuracy', 0.8590664272890485)\u001B[0m\n",
      "\u001B[34m[09/30/2021 17:01:02 INFO 140635303335744] #test_score (algo-1) : ('binary_f_1.000', 0.639080459770115)\u001B[0m\n",
      "\u001B[34m[09/30/2021 17:01:02 INFO 140635303335744] #test_score (algo-1) : ('precision', 0.4793103448275862)\u001B[0m\n",
      "\u001B[34m[09/30/2021 17:01:02 INFO 140635303335744] #test_score (algo-1) : ('recall', 0.9586206896551724)\u001B[0m\n",
      "\u001B[34m[09/30/2021 17:01:02 INFO 140635303335744] #test_score (algo-1) : ('roc_auc_score', 0.9694743959289704)\u001B[0m\n",
      "\u001B[34m[09/30/2021 17:01:02 INFO 140635303335744] #quality_metric: host=algo-1, test binary_classification_cross_entropy_objective <loss>=0.6799453953831771\u001B[0m\n",
      "\u001B[34m[09/30/2021 17:01:02 INFO 140635303335744] #quality_metric: host=algo-1, test binary_classification_accuracy <score>=0.8590664272890485\u001B[0m\n",
      "\u001B[34m[09/30/2021 17:01:02 INFO 140635303335744] #quality_metric: host=algo-1, test binary_f_1.000 <score>=0.639080459770115\u001B[0m\n",
      "\u001B[34m[09/30/2021 17:01:02 INFO 140635303335744] #quality_metric: host=algo-1, test precision <score>=0.4793103448275862\u001B[0m\n",
      "\u001B[34m[09/30/2021 17:01:02 INFO 140635303335744] #quality_metric: host=algo-1, test recall <score>=0.9586206896551724\u001B[0m\n",
      "\u001B[34m[09/30/2021 17:01:02 INFO 140635303335744] #quality_metric: host=algo-1, test roc_auc_score <score>=0.9694743959289704\u001B[0m\n",
      "\u001B[34m#metrics {\"StartTime\": 1633020834.7408278, \"EndTime\": 1633021262.7217343, \"Dimensions\": {\"Algorithm\": \"Linear Learner\", \"Host\": \"algo-1\", \"Operation\": \"training\"}, \"Metrics\": {\"initialize.time\": {\"sum\": 23759.87696647644, \"count\": 1, \"min\": 23759.87696647644, \"max\": 23759.87696647644}, \"epochs\": {\"sum\": 15.0, \"count\": 1, \"min\": 15, \"max\": 15}, \"check_early_stopping.time\": {\"sum\": 13.047456741333008, \"count\": 15, \"min\": 0.8151531219482422, \"max\": 0.9415149688720703}, \"update.time\": {\"sum\": 352514.3883228302, \"count\": 15, \"min\": 23411.561965942383, \"max\": 23626.264572143555}, \"finalize.time\": {\"sum\": 45714.993953704834, \"count\": 1, \"min\": 45714.993953704834, \"max\": 45714.993953704834}, \"setuptime\": {\"sum\": 18.45836639404297, \"count\": 1, \"min\": 18.45836639404297, \"max\": 18.45836639404297}, \"totaltime\": {\"sum\": 428157.9279899597, \"count\": 1, \"min\": 428157.9279899597, \"max\": 428157.9279899597}}}\n",
      "\u001B[0m\n",
      "\n",
      "2021-09-30 17:01:26 Uploading - Uploading generated training model\n",
      "2021-09-30 17:01:26 Completed - Training job completed\n",
      "ProfilerReport-1633020593: NoIssuesFound\n",
      "Training seconds: 493\n",
      "Billable seconds: 493\n"
     ]
    }
   ],
   "source": [
    "import sagemaker\n",
    "\n",
    "output_path = 's3://{0}/{1}/output'.format(bucket_name, bucket_key_prefix)\n",
    "\n",
    "linear = sagemaker.estimator.Estimator(\n",
    "    container,\n",
    "    role, \n",
    "    instance_count=1, \n",
    "    instance_type='ml.c5.2xlarge',\n",
    "    output_path=output_path,\n",
    "    base_job_name='reviews-spam-classifier'\n",
    ")\n",
    "\n",
    "linear.set_hyperparameters(\n",
    "    feature_dim=vocabulary_length,\n",
    "    predictor_type='binary_classifier',\n",
    "    mini_batch_size=100\n",
    ")\n",
    "\n",
    "train_config = sagemaker.inputs.TrainingInput(\n",
    "    s3_data='s3://{0}/{1}/train_data/{2}'.format(bucket_name, bucket_key_prefix, 'train_set.csv'), \n",
    "    content_type='text/csv'\n",
    ")\n",
    "\n",
    "test_config = sagemaker.inputs.TrainingInput(\n",
    "    s3_data='s3://{0}/{1}/validation_data/{2}'.format(bucket_name, bucket_key_prefix, 'val_set.csv'), \n",
    "    content_type='text/csv'\n",
    ")\n",
    "\n",
    "linear.fit({'train': train_config, 'test': test_config })"
   ]
  },
  {
   "cell_type": "code",
   "execution_count": 130,
   "id": "5fe5d553",
   "metadata": {
    "scrolled": true
   },
   "outputs": [
    {
     "name": "stdout",
     "output_type": "stream",
     "text": [
      "-------------!"
     ]
    }
   ],
   "source": [
    "from sagemaker.serializers import CSVSerializer\n",
    "from sagemaker.deserializers import JSONDeserializer\n",
    "\n",
    "pred = linear.deploy(\n",
    "    initial_instance_count=1,\n",
    "    instance_type='ml.m5.large',\n",
    "    serializer=CSVSerializer(),\n",
    "    deserializer=JSONDeserializer()\n",
    ")"
   ]
  },
  {
   "cell_type": "code",
   "execution_count": 207,
   "id": "91869b31",
   "metadata": {
    "scrolled": false
   },
   "outputs": [
    {
     "name": "stdout",
     "output_type": "stream",
     "text": [
      "{'predictions': [{'score': 0.9999998807907104, 'predicted_label': 1}, {'score': 0.00030086637707427144, 'predicted_label': 0}, {'score': 1.0, 'predicted_label': 1}]}\n"
     ]
    }
   ],
   "source": [
    "# for testing\n",
    "import json\n",
    "\n",
    "sagemaker_client = boto3.client('runtime.sagemaker')\n",
    "\n",
    "test_messages = [\"FreeMsg: Txt: CALL to No: 86888 & claim your reward of 3 hours talk time to use from your phone now! ubscribe6GBP/ mnth inc 3hrs 16 stop?txtStop\",\n",
    "                \"As per your request 'Melle Melle (Oru Minnaminunginte Nurungu Vettam)' has been set as your callertune for all Callers.\",\n",
    "                 \"WINNER!! As a valued network customer you have been selected to receivea £900 prize reward! To claim call 09061701461. Claim code KL341. Valid 12 hours only.\",\n",
    "                ]\n",
    "\n",
    "one_hot_test_messages = one_hot_encode(test_messages, vocabulary_length)\n",
    "encoded_test_messages = vectorize_sequences(one_hot_test_messages, vocabulary_length)\n",
    "\n",
    "np.savetxt(\"foo.csv\", encoded_test_messages, delimiter=\",\", encoding='utf-8')\n",
    "\n",
    "response = sagemaker_client.invoke_endpoint(\n",
    "    EndpointName='<endpoint_name>',\n",
    "    ContentType='text/csv',\n",
    "    Body=open(\"foo.csv\", 'rb')\n",
    ")\n",
    "\n",
    "result = json.loads(response['Body'].read().decode())\n",
    "\n",
    "print(result)"
   ]
  },
  {
   "cell_type": "code",
   "execution_count": null,
   "id": "8c36f411",
   "metadata": {},
   "outputs": [],
   "source": []
  },
  {
   "cell_type": "code",
   "execution_count": null,
   "id": "d59d3c41",
   "metadata": {},
   "outputs": [],
   "source": []
  },
  {
   "cell_type": "code",
   "execution_count": null,
   "id": "c26e172d",
   "metadata": {},
   "outputs": [],
   "source": []
  },
  {
   "cell_type": "code",
   "execution_count": null,
   "id": "51bafe29",
   "metadata": {},
   "outputs": [],
   "source": []
  },
  {
   "cell_type": "code",
   "execution_count": null,
   "id": "afaa9134",
   "metadata": {},
   "outputs": [],
   "source": []
  }
 ],
 "metadata": {
  "kernelspec": {
   "display_name": "conda_python3",
   "language": "python",
   "name": "conda_python3"
  },
  "language_info": {
   "codemirror_mode": {
    "name": "ipython",
    "version": 3
   },
   "file_extension": ".py",
   "mimetype": "text/x-python",
   "name": "python",
   "nbconvert_exporter": "python",
   "pygments_lexer": "ipython3",
   "version": "3.6.13"
  }
 },
 "nbformat": 4,
 "nbformat_minor": 5
}
